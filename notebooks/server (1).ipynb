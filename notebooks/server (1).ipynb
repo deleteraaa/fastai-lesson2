{
 "cells": [
  {
   "cell_type": "markdown",
   "metadata": {},
   "source": [
    "# Gradio Server\n",
    "This is where we will deploy and serve our trained classifier model from our notebook"
   ]
  },
  {
   "cell_type": "markdown",
   "metadata": {},
   "source": [
    "- Imports:"
   ]
  },
  {
   "cell_type": "code",
   "execution_count": 1,
   "metadata": {},
   "outputs": [],
   "source": [
    "from fastai.vision.all import *"
   ]
  },
  {
   "cell_type": "markdown",
   "metadata": {},
   "source": [
    "- Load trained model:"
   ]
  },
  {
   "cell_type": "code",
   "execution_count": 2,
   "metadata": {},
   "outputs": [
    {
     "name": "stderr",
     "output_type": "stream",
     "text": [
      "/Users/nikkideyy/Desktop/repos/ns/fastai-lesson2/.env/lib/python3.12/site-packages/fastai/learner.py:455: UserWarning: load_learner` uses Python's insecure pickle module, which can execute malicious arbitrary code when loading. Only load files you trust.\n",
      "If you only need to load model weights and optimizer state, use the safe `Learner.load` instead.\n",
      "  warn(\"load_learner` uses Python's insecure pickle module, which can execute malicious arbitrary code when loading. Only load files you trust.\\nIf you only need to load model weights and optimizer state, use the safe `Learner.load` instead.\")\n"
     ]
    }
   ],
   "source": [
    "learn = load_learner('model.pkl')"
   ]
  },
  {
   "cell_type": "code",
   "execution_count": 3,
   "metadata": {},
   "outputs": [],
   "source": [
    "labels = learn.dls.vocab\n",
    "def predict(img):\n",
    "    img = PILImage.create(img)\n",
    "    pred,pred_idx,probs = learn.predict(img)\n",
    "    return {labels[i]: float(probs[i]) for i in range(len(labels))}"
   ]
  },
  {
   "cell_type": "code",
   "execution_count": 4,
   "metadata": {},
   "outputs": [
    {
     "name": "stdout",
     "output_type": "stream",
     "text": [
      "Found existing installation: gradio 3.50.0\n",
      "Uninstalling gradio-3.50.0:\n",
      "  Successfully uninstalled gradio-3.50.0\n",
      "  Successfully uninstalled gradio-3.50.0\n",
      "Note: you may need to restart the kernel to use updated packages.\n",
      "Note: you may need to restart the kernel to use updated packages.\n"
     ]
    }
   ],
   "source": [
    "# Uninstall any existing gradio version\n",
    "%pip uninstall gradio --yes"
   ]
  },
  {
   "cell_type": "code",
   "execution_count": 5,
   "metadata": {},
   "outputs": [
    {
     "name": "stdout",
     "output_type": "stream",
     "text": [
      "Collecting gradio==3.50.0\n",
      "  Using cached gradio-3.50.0-py3-none-any.whl.metadata (17 kB)\n",
      "Requirement already satisfied: aiofiles<24.0,>=22.0 in /Users/nikkideyy/Desktop/repos/ns/fastai-lesson2/.env/lib/python3.12/site-packages (from gradio==3.50.0) (23.2.1)\n",
      "Requirement already satisfied: altair<6.0,>=4.2.0 in /Users/nikkideyy/Desktop/repos/ns/fastai-lesson2/.env/lib/python3.12/site-packages (from gradio==3.50.0) (5.5.0)\n",
      "Requirement already satisfied: fastapi in /Users/nikkideyy/Desktop/repos/ns/fastai-lesson2/.env/lib/python3.12/site-packages (from gradio==3.50.0) (0.115.12)\n",
      "Requirement already satisfied: ffmpy in /Users/nikkideyy/Desktop/repos/ns/fastai-lesson2/.env/lib/python3.12/site-packages (from gradio==3.50.0) (0.6.0)\n",
      "Requirement already satisfied: gradio-client==0.6.1 in /Users/nikkideyy/Desktop/repos/ns/fastai-lesson2/.env/lib/python3.12/site-packages (from gradio==3.50.0) (0.6.1)\n",
      "Requirement already satisfied: httpx in /Users/nikkideyy/Desktop/repos/ns/fastai-lesson2/.env/lib/python3.12/site-packages (from gradio==3.50.0) (0.24.1)\n",
      "Requirement already satisfied: huggingface-hub>=0.14.0 in /Users/nikkideyy/Desktop/repos/ns/fastai-lesson2/.env/lib/python3.12/site-packages (from gradio==3.50.0) (0.32.4)\n",
      "Requirement already satisfied: importlib-resources<7.0,>=1.3 in /Users/nikkideyy/Desktop/repos/ns/fastai-lesson2/.env/lib/python3.12/site-packages (from gradio==3.50.0) (6.5.2)\n",
      "Requirement already satisfied: jinja2<4.0 in /Users/nikkideyy/Desktop/repos/ns/fastai-lesson2/.env/lib/python3.12/site-packages (from gradio==3.50.0) (3.1.6)\n",
      "Requirement already satisfied: markupsafe~=2.0 in /Users/nikkideyy/Desktop/repos/ns/fastai-lesson2/.env/lib/python3.12/site-packages (from gradio==3.50.0) (2.1.5)\n",
      "Requirement already satisfied: matplotlib~=3.0 in /Users/nikkideyy/Desktop/repos/ns/fastai-lesson2/.env/lib/python3.12/site-packages (from gradio==3.50.0) (3.10.3)\n",
      "Requirement already satisfied: numpy~=1.0 in /Users/nikkideyy/Desktop/repos/ns/fastai-lesson2/.env/lib/python3.12/site-packages (from gradio==3.50.0) (1.26.4)\n",
      "Requirement already satisfied: orjson~=3.0 in /Users/nikkideyy/Desktop/repos/ns/fastai-lesson2/.env/lib/python3.12/site-packages (from gradio==3.50.0) (3.10.18)\n",
      "Requirement already satisfied: packaging in /Users/nikkideyy/Desktop/repos/ns/fastai-lesson2/.env/lib/python3.12/site-packages (from gradio==3.50.0) (25.0)\n",
      "Requirement already satisfied: pandas<3.0,>=1.0 in /Users/nikkideyy/Desktop/repos/ns/fastai-lesson2/.env/lib/python3.12/site-packages (from gradio==3.50.0) (2.3.0)\n",
      "Requirement already satisfied: pillow<11.0,>=8.0 in /Users/nikkideyy/Desktop/repos/ns/fastai-lesson2/.env/lib/python3.12/site-packages (from gradio==3.50.0) (10.4.0)\n",
      "Requirement already satisfied: pydantic!=1.8,!=1.8.1,!=2.0.0,!=2.0.1,<3.0.0,>=1.7.4 in /Users/nikkideyy/Desktop/repos/ns/fastai-lesson2/.env/lib/python3.12/site-packages (from gradio==3.50.0) (2.11.5)\n",
      "Requirement already satisfied: pydub in /Users/nikkideyy/Desktop/repos/ns/fastai-lesson2/.env/lib/python3.12/site-packages (from gradio==3.50.0) (0.25.1)\n",
      "Requirement already satisfied: python-multipart in /Users/nikkideyy/Desktop/repos/ns/fastai-lesson2/.env/lib/python3.12/site-packages (from gradio==3.50.0) (0.0.20)\n",
      "Requirement already satisfied: pyyaml<7.0,>=5.0 in /Users/nikkideyy/Desktop/repos/ns/fastai-lesson2/.env/lib/python3.12/site-packages (from gradio==3.50.0) (6.0.2)\n",
      "Requirement already satisfied: requests~=2.0 in /Users/nikkideyy/Desktop/repos/ns/fastai-lesson2/.env/lib/python3.12/site-packages (from gradio==3.50.0) (2.32.3)\n",
      "Requirement already satisfied: semantic-version~=2.0 in /Users/nikkideyy/Desktop/repos/ns/fastai-lesson2/.env/lib/python3.12/site-packages (from gradio==3.50.0) (2.10.0)\n",
      "Requirement already satisfied: typing-extensions~=4.0 in /Users/nikkideyy/Desktop/repos/ns/fastai-lesson2/.env/lib/python3.12/site-packages (from gradio==3.50.0) (4.14.0)\n",
      "Requirement already satisfied: uvicorn>=0.14.0 in /Users/nikkideyy/Desktop/repos/ns/fastai-lesson2/.env/lib/python3.12/site-packages (from gradio==3.50.0) (0.34.3)\n",
      "Requirement already satisfied: websockets<12.0,>=10.0 in /Users/nikkideyy/Desktop/repos/ns/fastai-lesson2/.env/lib/python3.12/site-packages (from gradio==3.50.0) (11.0.3)\n",
      "Requirement already satisfied: fsspec in /Users/nikkideyy/Desktop/repos/ns/fastai-lesson2/.env/lib/python3.12/site-packages (from gradio-client==0.6.1->gradio==3.50.0) (2025.5.1)\n",
      "Requirement already satisfied: jsonschema>=3.0 in /Users/nikkideyy/Desktop/repos/ns/fastai-lesson2/.env/lib/python3.12/site-packages (from altair<6.0,>=4.2.0->gradio==3.50.0) (4.24.0)\n",
      "Requirement already satisfied: narwhals>=1.14.2 in /Users/nikkideyy/Desktop/repos/ns/fastai-lesson2/.env/lib/python3.12/site-packages (from altair<6.0,>=4.2.0->gradio==3.50.0) (1.41.1)\n",
      "Requirement already satisfied: aiofiles<24.0,>=22.0 in /Users/nikkideyy/Desktop/repos/ns/fastai-lesson2/.env/lib/python3.12/site-packages (from gradio==3.50.0) (23.2.1)\n",
      "Requirement already satisfied: altair<6.0,>=4.2.0 in /Users/nikkideyy/Desktop/repos/ns/fastai-lesson2/.env/lib/python3.12/site-packages (from gradio==3.50.0) (5.5.0)\n",
      "Requirement already satisfied: fastapi in /Users/nikkideyy/Desktop/repos/ns/fastai-lesson2/.env/lib/python3.12/site-packages (from gradio==3.50.0) (0.115.12)\n",
      "Requirement already satisfied: ffmpy in /Users/nikkideyy/Desktop/repos/ns/fastai-lesson2/.env/lib/python3.12/site-packages (from gradio==3.50.0) (0.6.0)\n",
      "Requirement already satisfied: gradio-client==0.6.1 in /Users/nikkideyy/Desktop/repos/ns/fastai-lesson2/.env/lib/python3.12/site-packages (from gradio==3.50.0) (0.6.1)\n",
      "Requirement already satisfied: httpx in /Users/nikkideyy/Desktop/repos/ns/fastai-lesson2/.env/lib/python3.12/site-packages (from gradio==3.50.0) (0.24.1)\n",
      "Requirement already satisfied: huggingface-hub>=0.14.0 in /Users/nikkideyy/Desktop/repos/ns/fastai-lesson2/.env/lib/python3.12/site-packages (from gradio==3.50.0) (0.32.4)\n",
      "Requirement already satisfied: importlib-resources<7.0,>=1.3 in /Users/nikkideyy/Desktop/repos/ns/fastai-lesson2/.env/lib/python3.12/site-packages (from gradio==3.50.0) (6.5.2)\n",
      "Requirement already satisfied: jinja2<4.0 in /Users/nikkideyy/Desktop/repos/ns/fastai-lesson2/.env/lib/python3.12/site-packages (from gradio==3.50.0) (3.1.6)\n",
      "Requirement already satisfied: markupsafe~=2.0 in /Users/nikkideyy/Desktop/repos/ns/fastai-lesson2/.env/lib/python3.12/site-packages (from gradio==3.50.0) (2.1.5)\n",
      "Requirement already satisfied: matplotlib~=3.0 in /Users/nikkideyy/Desktop/repos/ns/fastai-lesson2/.env/lib/python3.12/site-packages (from gradio==3.50.0) (3.10.3)\n",
      "Requirement already satisfied: numpy~=1.0 in /Users/nikkideyy/Desktop/repos/ns/fastai-lesson2/.env/lib/python3.12/site-packages (from gradio==3.50.0) (1.26.4)\n",
      "Requirement already satisfied: orjson~=3.0 in /Users/nikkideyy/Desktop/repos/ns/fastai-lesson2/.env/lib/python3.12/site-packages (from gradio==3.50.0) (3.10.18)\n",
      "Requirement already satisfied: packaging in /Users/nikkideyy/Desktop/repos/ns/fastai-lesson2/.env/lib/python3.12/site-packages (from gradio==3.50.0) (25.0)\n",
      "Requirement already satisfied: pandas<3.0,>=1.0 in /Users/nikkideyy/Desktop/repos/ns/fastai-lesson2/.env/lib/python3.12/site-packages (from gradio==3.50.0) (2.3.0)\n",
      "Requirement already satisfied: pillow<11.0,>=8.0 in /Users/nikkideyy/Desktop/repos/ns/fastai-lesson2/.env/lib/python3.12/site-packages (from gradio==3.50.0) (10.4.0)\n",
      "Requirement already satisfied: pydantic!=1.8,!=1.8.1,!=2.0.0,!=2.0.1,<3.0.0,>=1.7.4 in /Users/nikkideyy/Desktop/repos/ns/fastai-lesson2/.env/lib/python3.12/site-packages (from gradio==3.50.0) (2.11.5)\n",
      "Requirement already satisfied: pydub in /Users/nikkideyy/Desktop/repos/ns/fastai-lesson2/.env/lib/python3.12/site-packages (from gradio==3.50.0) (0.25.1)\n",
      "Requirement already satisfied: python-multipart in /Users/nikkideyy/Desktop/repos/ns/fastai-lesson2/.env/lib/python3.12/site-packages (from gradio==3.50.0) (0.0.20)\n",
      "Requirement already satisfied: pyyaml<7.0,>=5.0 in /Users/nikkideyy/Desktop/repos/ns/fastai-lesson2/.env/lib/python3.12/site-packages (from gradio==3.50.0) (6.0.2)\n",
      "Requirement already satisfied: requests~=2.0 in /Users/nikkideyy/Desktop/repos/ns/fastai-lesson2/.env/lib/python3.12/site-packages (from gradio==3.50.0) (2.32.3)\n",
      "Requirement already satisfied: semantic-version~=2.0 in /Users/nikkideyy/Desktop/repos/ns/fastai-lesson2/.env/lib/python3.12/site-packages (from gradio==3.50.0) (2.10.0)\n",
      "Requirement already satisfied: typing-extensions~=4.0 in /Users/nikkideyy/Desktop/repos/ns/fastai-lesson2/.env/lib/python3.12/site-packages (from gradio==3.50.0) (4.14.0)\n",
      "Requirement already satisfied: uvicorn>=0.14.0 in /Users/nikkideyy/Desktop/repos/ns/fastai-lesson2/.env/lib/python3.12/site-packages (from gradio==3.50.0) (0.34.3)\n",
      "Requirement already satisfied: websockets<12.0,>=10.0 in /Users/nikkideyy/Desktop/repos/ns/fastai-lesson2/.env/lib/python3.12/site-packages (from gradio==3.50.0) (11.0.3)\n",
      "Requirement already satisfied: fsspec in /Users/nikkideyy/Desktop/repos/ns/fastai-lesson2/.env/lib/python3.12/site-packages (from gradio-client==0.6.1->gradio==3.50.0) (2025.5.1)\n",
      "Requirement already satisfied: jsonschema>=3.0 in /Users/nikkideyy/Desktop/repos/ns/fastai-lesson2/.env/lib/python3.12/site-packages (from altair<6.0,>=4.2.0->gradio==3.50.0) (4.24.0)\n",
      "Requirement already satisfied: narwhals>=1.14.2 in /Users/nikkideyy/Desktop/repos/ns/fastai-lesson2/.env/lib/python3.12/site-packages (from altair<6.0,>=4.2.0->gradio==3.50.0) (1.41.1)\n",
      "Requirement already satisfied: filelock in /Users/nikkideyy/Desktop/repos/ns/fastai-lesson2/.env/lib/python3.12/site-packages (from huggingface-hub>=0.14.0->gradio==3.50.0) (3.18.0)\n",
      "Requirement already satisfied: tqdm>=4.42.1 in /Users/nikkideyy/Desktop/repos/ns/fastai-lesson2/.env/lib/python3.12/site-packages (from huggingface-hub>=0.14.0->gradio==3.50.0) (4.67.1)\n",
      "Requirement already satisfied: hf-xet<2.0.0,>=1.1.2 in /Users/nikkideyy/Desktop/repos/ns/fastai-lesson2/.env/lib/python3.12/site-packages (from huggingface-hub>=0.14.0->gradio==3.50.0) (1.1.3)\n",
      "Requirement already satisfied: contourpy>=1.0.1 in /Users/nikkideyy/Desktop/repos/ns/fastai-lesson2/.env/lib/python3.12/site-packages (from matplotlib~=3.0->gradio==3.50.0) (1.3.2)\n",
      "Requirement already satisfied: cycler>=0.10 in /Users/nikkideyy/Desktop/repos/ns/fastai-lesson2/.env/lib/python3.12/site-packages (from matplotlib~=3.0->gradio==3.50.0) (0.12.1)\n",
      "Requirement already satisfied: fonttools>=4.22.0 in /Users/nikkideyy/Desktop/repos/ns/fastai-lesson2/.env/lib/python3.12/site-packages (from matplotlib~=3.0->gradio==3.50.0) (4.58.2)\n",
      "Requirement already satisfied: kiwisolver>=1.3.1 in /Users/nikkideyy/Desktop/repos/ns/fastai-lesson2/.env/lib/python3.12/site-packages (from matplotlib~=3.0->gradio==3.50.0) (1.4.8)\n",
      "Requirement already satisfied: pyparsing>=2.3.1 in /Users/nikkideyy/Desktop/repos/ns/fastai-lesson2/.env/lib/python3.12/site-packages (from matplotlib~=3.0->gradio==3.50.0) (3.2.3)\n",
      "Requirement already satisfied: python-dateutil>=2.7 in /Users/nikkideyy/Desktop/repos/ns/fastai-lesson2/.env/lib/python3.12/site-packages (from matplotlib~=3.0->gradio==3.50.0) (2.9.0.post0)\n",
      "Requirement already satisfied: pytz>=2020.1 in /Users/nikkideyy/Desktop/repos/ns/fastai-lesson2/.env/lib/python3.12/site-packages (from pandas<3.0,>=1.0->gradio==3.50.0) (2025.2)\n",
      "Requirement already satisfied: tzdata>=2022.7 in /Users/nikkideyy/Desktop/repos/ns/fastai-lesson2/.env/lib/python3.12/site-packages (from pandas<3.0,>=1.0->gradio==3.50.0) (2025.2)\n",
      "Requirement already satisfied: annotated-types>=0.6.0 in /Users/nikkideyy/Desktop/repos/ns/fastai-lesson2/.env/lib/python3.12/site-packages (from pydantic!=1.8,!=1.8.1,!=2.0.0,!=2.0.1,<3.0.0,>=1.7.4->gradio==3.50.0) (0.7.0)\n",
      "Requirement already satisfied: pydantic-core==2.33.2 in /Users/nikkideyy/Desktop/repos/ns/fastai-lesson2/.env/lib/python3.12/site-packages (from pydantic!=1.8,!=1.8.1,!=2.0.0,!=2.0.1,<3.0.0,>=1.7.4->gradio==3.50.0) (2.33.2)\n",
      "Requirement already satisfied: typing-inspection>=0.4.0 in /Users/nikkideyy/Desktop/repos/ns/fastai-lesson2/.env/lib/python3.12/site-packages (from pydantic!=1.8,!=1.8.1,!=2.0.0,!=2.0.1,<3.0.0,>=1.7.4->gradio==3.50.0) (0.4.1)\n",
      "Requirement already satisfied: charset-normalizer<4,>=2 in /Users/nikkideyy/Desktop/repos/ns/fastai-lesson2/.env/lib/python3.12/site-packages (from requests~=2.0->gradio==3.50.0) (3.4.2)\n",
      "Requirement already satisfied: idna<4,>=2.5 in /Users/nikkideyy/Desktop/repos/ns/fastai-lesson2/.env/lib/python3.12/site-packages (from requests~=2.0->gradio==3.50.0) (3.10)\n",
      "Requirement already satisfied: urllib3<3,>=1.21.1 in /Users/nikkideyy/Desktop/repos/ns/fastai-lesson2/.env/lib/python3.12/site-packages (from requests~=2.0->gradio==3.50.0) (2.4.0)\n",
      "Requirement already satisfied: certifi>=2017.4.17 in /Users/nikkideyy/Desktop/repos/ns/fastai-lesson2/.env/lib/python3.12/site-packages (from requests~=2.0->gradio==3.50.0) (2025.4.26)\n",
      "Requirement already satisfied: click>=7.0 in /Users/nikkideyy/Desktop/repos/ns/fastai-lesson2/.env/lib/python3.12/site-packages (from uvicorn>=0.14.0->gradio==3.50.0) (8.2.1)\n",
      "Requirement already satisfied: h11>=0.8 in /Users/nikkideyy/Desktop/repos/ns/fastai-lesson2/.env/lib/python3.12/site-packages (from uvicorn>=0.14.0->gradio==3.50.0) (0.14.0)\n",
      "Requirement already satisfied: starlette<0.47.0,>=0.40.0 in /Users/nikkideyy/Desktop/repos/ns/fastai-lesson2/.env/lib/python3.12/site-packages (from fastapi->gradio==3.50.0) (0.46.2)\n",
      "Requirement already satisfied: httpcore<0.18.0,>=0.15.0 in /Users/nikkideyy/Desktop/repos/ns/fastai-lesson2/.env/lib/python3.12/site-packages (from httpx->gradio==3.50.0) (0.17.3)\n",
      "Requirement already satisfied: filelock in /Users/nikkideyy/Desktop/repos/ns/fastai-lesson2/.env/lib/python3.12/site-packages (from huggingface-hub>=0.14.0->gradio==3.50.0) (3.18.0)\n",
      "Requirement already satisfied: tqdm>=4.42.1 in /Users/nikkideyy/Desktop/repos/ns/fastai-lesson2/.env/lib/python3.12/site-packages (from huggingface-hub>=0.14.0->gradio==3.50.0) (4.67.1)\n",
      "Requirement already satisfied: hf-xet<2.0.0,>=1.1.2 in /Users/nikkideyy/Desktop/repos/ns/fastai-lesson2/.env/lib/python3.12/site-packages (from huggingface-hub>=0.14.0->gradio==3.50.0) (1.1.3)\n",
      "Requirement already satisfied: contourpy>=1.0.1 in /Users/nikkideyy/Desktop/repos/ns/fastai-lesson2/.env/lib/python3.12/site-packages (from matplotlib~=3.0->gradio==3.50.0) (1.3.2)\n",
      "Requirement already satisfied: cycler>=0.10 in /Users/nikkideyy/Desktop/repos/ns/fastai-lesson2/.env/lib/python3.12/site-packages (from matplotlib~=3.0->gradio==3.50.0) (0.12.1)\n",
      "Requirement already satisfied: fonttools>=4.22.0 in /Users/nikkideyy/Desktop/repos/ns/fastai-lesson2/.env/lib/python3.12/site-packages (from matplotlib~=3.0->gradio==3.50.0) (4.58.2)\n",
      "Requirement already satisfied: kiwisolver>=1.3.1 in /Users/nikkideyy/Desktop/repos/ns/fastai-lesson2/.env/lib/python3.12/site-packages (from matplotlib~=3.0->gradio==3.50.0) (1.4.8)\n",
      "Requirement already satisfied: pyparsing>=2.3.1 in /Users/nikkideyy/Desktop/repos/ns/fastai-lesson2/.env/lib/python3.12/site-packages (from matplotlib~=3.0->gradio==3.50.0) (3.2.3)\n",
      "Requirement already satisfied: python-dateutil>=2.7 in /Users/nikkideyy/Desktop/repos/ns/fastai-lesson2/.env/lib/python3.12/site-packages (from matplotlib~=3.0->gradio==3.50.0) (2.9.0.post0)\n",
      "Requirement already satisfied: pytz>=2020.1 in /Users/nikkideyy/Desktop/repos/ns/fastai-lesson2/.env/lib/python3.12/site-packages (from pandas<3.0,>=1.0->gradio==3.50.0) (2025.2)\n",
      "Requirement already satisfied: tzdata>=2022.7 in /Users/nikkideyy/Desktop/repos/ns/fastai-lesson2/.env/lib/python3.12/site-packages (from pandas<3.0,>=1.0->gradio==3.50.0) (2025.2)\n",
      "Requirement already satisfied: annotated-types>=0.6.0 in /Users/nikkideyy/Desktop/repos/ns/fastai-lesson2/.env/lib/python3.12/site-packages (from pydantic!=1.8,!=1.8.1,!=2.0.0,!=2.0.1,<3.0.0,>=1.7.4->gradio==3.50.0) (0.7.0)\n",
      "Requirement already satisfied: pydantic-core==2.33.2 in /Users/nikkideyy/Desktop/repos/ns/fastai-lesson2/.env/lib/python3.12/site-packages (from pydantic!=1.8,!=1.8.1,!=2.0.0,!=2.0.1,<3.0.0,>=1.7.4->gradio==3.50.0) (2.33.2)\n",
      "Requirement already satisfied: typing-inspection>=0.4.0 in /Users/nikkideyy/Desktop/repos/ns/fastai-lesson2/.env/lib/python3.12/site-packages (from pydantic!=1.8,!=1.8.1,!=2.0.0,!=2.0.1,<3.0.0,>=1.7.4->gradio==3.50.0) (0.4.1)\n",
      "Requirement already satisfied: charset-normalizer<4,>=2 in /Users/nikkideyy/Desktop/repos/ns/fastai-lesson2/.env/lib/python3.12/site-packages (from requests~=2.0->gradio==3.50.0) (3.4.2)\n",
      "Requirement already satisfied: idna<4,>=2.5 in /Users/nikkideyy/Desktop/repos/ns/fastai-lesson2/.env/lib/python3.12/site-packages (from requests~=2.0->gradio==3.50.0) (3.10)\n",
      "Requirement already satisfied: urllib3<3,>=1.21.1 in /Users/nikkideyy/Desktop/repos/ns/fastai-lesson2/.env/lib/python3.12/site-packages (from requests~=2.0->gradio==3.50.0) (2.4.0)\n",
      "Requirement already satisfied: certifi>=2017.4.17 in /Users/nikkideyy/Desktop/repos/ns/fastai-lesson2/.env/lib/python3.12/site-packages (from requests~=2.0->gradio==3.50.0) (2025.4.26)\n",
      "Requirement already satisfied: click>=7.0 in /Users/nikkideyy/Desktop/repos/ns/fastai-lesson2/.env/lib/python3.12/site-packages (from uvicorn>=0.14.0->gradio==3.50.0) (8.2.1)\n",
      "Requirement already satisfied: h11>=0.8 in /Users/nikkideyy/Desktop/repos/ns/fastai-lesson2/.env/lib/python3.12/site-packages (from uvicorn>=0.14.0->gradio==3.50.0) (0.14.0)\n",
      "Requirement already satisfied: starlette<0.47.0,>=0.40.0 in /Users/nikkideyy/Desktop/repos/ns/fastai-lesson2/.env/lib/python3.12/site-packages (from fastapi->gradio==3.50.0) (0.46.2)\n",
      "Requirement already satisfied: httpcore<0.18.0,>=0.15.0 in /Users/nikkideyy/Desktop/repos/ns/fastai-lesson2/.env/lib/python3.12/site-packages (from httpx->gradio==3.50.0) (0.17.3)\n",
      "Requirement already satisfied: sniffio in /Users/nikkideyy/Desktop/repos/ns/fastai-lesson2/.env/lib/python3.12/site-packages (from httpx->gradio==3.50.0) (1.3.1)\n",
      "Requirement already satisfied: anyio<5.0,>=3.0 in /Users/nikkideyy/Desktop/repos/ns/fastai-lesson2/.env/lib/python3.12/site-packages (from httpcore<0.18.0,>=0.15.0->httpx->gradio==3.50.0) (4.9.0)\n",
      "Requirement already satisfied: attrs>=22.2.0 in /Users/nikkideyy/Desktop/repos/ns/fastai-lesson2/.env/lib/python3.12/site-packages (from jsonschema>=3.0->altair<6.0,>=4.2.0->gradio==3.50.0) (25.3.0)\n",
      "Requirement already satisfied: jsonschema-specifications>=2023.03.6 in /Users/nikkideyy/Desktop/repos/ns/fastai-lesson2/.env/lib/python3.12/site-packages (from jsonschema>=3.0->altair<6.0,>=4.2.0->gradio==3.50.0) (2025.4.1)\n",
      "Requirement already satisfied: referencing>=0.28.4 in /Users/nikkideyy/Desktop/repos/ns/fastai-lesson2/.env/lib/python3.12/site-packages (from jsonschema>=3.0->altair<6.0,>=4.2.0->gradio==3.50.0) (0.36.2)\n",
      "Requirement already satisfied: rpds-py>=0.7.1 in /Users/nikkideyy/Desktop/repos/ns/fastai-lesson2/.env/lib/python3.12/site-packages (from jsonschema>=3.0->altair<6.0,>=4.2.0->gradio==3.50.0) (0.25.1)\n",
      "Requirement already satisfied: six>=1.5 in /Users/nikkideyy/Desktop/repos/ns/fastai-lesson2/.env/lib/python3.12/site-packages (from python-dateutil>=2.7->matplotlib~=3.0->gradio==3.50.0) (1.17.0)\n",
      "Requirement already satisfied: sniffio in /Users/nikkideyy/Desktop/repos/ns/fastai-lesson2/.env/lib/python3.12/site-packages (from httpx->gradio==3.50.0) (1.3.1)\n",
      "Requirement already satisfied: anyio<5.0,>=3.0 in /Users/nikkideyy/Desktop/repos/ns/fastai-lesson2/.env/lib/python3.12/site-packages (from httpcore<0.18.0,>=0.15.0->httpx->gradio==3.50.0) (4.9.0)\n",
      "Requirement already satisfied: attrs>=22.2.0 in /Users/nikkideyy/Desktop/repos/ns/fastai-lesson2/.env/lib/python3.12/site-packages (from jsonschema>=3.0->altair<6.0,>=4.2.0->gradio==3.50.0) (25.3.0)\n",
      "Requirement already satisfied: jsonschema-specifications>=2023.03.6 in /Users/nikkideyy/Desktop/repos/ns/fastai-lesson2/.env/lib/python3.12/site-packages (from jsonschema>=3.0->altair<6.0,>=4.2.0->gradio==3.50.0) (2025.4.1)\n",
      "Requirement already satisfied: referencing>=0.28.4 in /Users/nikkideyy/Desktop/repos/ns/fastai-lesson2/.env/lib/python3.12/site-packages (from jsonschema>=3.0->altair<6.0,>=4.2.0->gradio==3.50.0) (0.36.2)\n",
      "Requirement already satisfied: rpds-py>=0.7.1 in /Users/nikkideyy/Desktop/repos/ns/fastai-lesson2/.env/lib/python3.12/site-packages (from jsonschema>=3.0->altair<6.0,>=4.2.0->gradio==3.50.0) (0.25.1)\n",
      "Requirement already satisfied: six>=1.5 in /Users/nikkideyy/Desktop/repos/ns/fastai-lesson2/.env/lib/python3.12/site-packages (from python-dateutil>=2.7->matplotlib~=3.0->gradio==3.50.0) (1.17.0)\n",
      "Using cached gradio-3.50.0-py3-none-any.whl (20.3 MB)\n",
      "Using cached gradio-3.50.0-py3-none-any.whl (20.3 MB)\n",
      "Installing collected packages: gradio\n",
      "Installing collected packages: gradio\n",
      "Successfully installed gradio-3.50.0\n",
      "\n",
      "\u001b[1m[\u001b[0m\u001b[34;49mnotice\u001b[0m\u001b[1;39;49m]\u001b[0m\u001b[39;49m A new release of pip is available: \u001b[0m\u001b[31;49m25.0.1\u001b[0m\u001b[39;49m -> \u001b[0m\u001b[32;49m25.1.1\u001b[0m\n",
      "\u001b[1m[\u001b[0m\u001b[34;49mnotice\u001b[0m\u001b[1;39;49m]\u001b[0m\u001b[39;49m To update, run: \u001b[0m\u001b[32;49mpip install --upgrade pip\u001b[0m\n",
      "Successfully installed gradio-3.50.0\n",
      "\n",
      "\u001b[1m[\u001b[0m\u001b[34;49mnotice\u001b[0m\u001b[1;39;49m]\u001b[0m\u001b[39;49m A new release of pip is available: \u001b[0m\u001b[31;49m25.0.1\u001b[0m\u001b[39;49m -> \u001b[0m\u001b[32;49m25.1.1\u001b[0m\n",
      "\u001b[1m[\u001b[0m\u001b[34;49mnotice\u001b[0m\u001b[1;39;49m]\u001b[0m\u001b[39;49m To update, run: \u001b[0m\u001b[32;49mpip install --upgrade pip\u001b[0m\n",
      "Note: you may need to restart the kernel to use updated packages.\n",
      "Note: you may need to restart the kernel to use updated packages.\n"
     ]
    }
   ],
   "source": [
    "# Install the required gradio version\n",
    "%pip install gradio==3.50.0"
   ]
  },
  {
   "cell_type": "code",
   "execution_count": 6,
   "metadata": {},
   "outputs": [
    {
     "name": "stderr",
     "output_type": "stream",
     "text": [
      "/Users/nikkideyy/Desktop/repos/ns/fastai-lesson2/.env/lib/python3.12/site-packages/tqdm/auto.py:21: TqdmWarning: IProgress not found. Please update jupyter and ipywidgets. See https://ipywidgets.readthedocs.io/en/stable/user_install.html\n",
      "  from .autonotebook import tqdm as notebook_tqdm\n"
     ]
    },
    {
     "name": "stdout",
     "output_type": "stream",
     "text": [
      "Running on local URL:  http://127.0.0.1:7860\n",
      "IMPORTANT: You are using gradio version 3.50.0, however version 4.44.1 is available, please upgrade.\n",
      "--------\n",
      "IMPORTANT: You are using gradio version 3.50.0, however version 4.44.1 is available, please upgrade.\n",
      "--------\n",
      "Running on public URL: https://6bd2fbe5659f3c7134.gradio.live\n",
      "\n",
      "This share link expires in 72 hours. For free permanent hosting and GPU upgrades, run `gradio deploy` from Terminal to deploy to Spaces (https://huggingface.co/spaces)\n",
      "Running on public URL: https://6bd2fbe5659f3c7134.gradio.live\n",
      "\n",
      "This share link expires in 72 hours. For free permanent hosting and GPU upgrades, run `gradio deploy` from Terminal to deploy to Spaces (https://huggingface.co/spaces)\n"
     ]
    },
    {
     "data": {
      "text/html": [
       "<div><iframe src=\"https://6bd2fbe5659f3c7134.gradio.live\" width=\"100%\" height=\"500\" allow=\"autoplay; camera; microphone; clipboard-read; clipboard-write;\" frameborder=\"0\" allowfullscreen></iframe></div>"
      ],
      "text/plain": [
       "<IPython.core.display.HTML object>"
      ]
     },
     "metadata": {},
     "output_type": "display_data"
    },
    {
     "data": {
      "text/plain": []
     },
     "execution_count": 6,
     "metadata": {},
     "output_type": "execute_result"
    },
    {
     "name": "stderr",
     "output_type": "stream",
     "text": [
      "Traceback (most recent call last):\n",
      "  File \"/Users/nikkideyy/Desktop/repos/ns/fastai-lesson2/.env/lib/python3.12/site-packages/PIL/Image.py\", line 3437, in open\n",
      "    fp.seek(0)\n",
      "    ^^^^^^^\n",
      "AttributeError: 'NoneType' object has no attribute 'seek'\n",
      "\n",
      "During handling of the above exception, another exception occurred:\n",
      "\n",
      "Traceback (most recent call last):\n",
      "  File \"/Users/nikkideyy/Desktop/repos/ns/fastai-lesson2/.env/lib/python3.12/site-packages/gradio/routes.py\", line 534, in predict\n",
      "    output = await route_utils.call_process_api(\n",
      "             ^^^^^^^^^^^^^^^^^^^^^^^^^^^^^^^^^^^\n",
      "  File \"/Users/nikkideyy/Desktop/repos/ns/fastai-lesson2/.env/lib/python3.12/site-packages/gradio/route_utils.py\", line 226, in call_process_api\n",
      "    output = await app.get_blocks().process_api(\n",
      "             ^^^^^^^^^^^^^^^^^^^^^^^^^^^^^^^^^^^\n",
      "  File \"/Users/nikkideyy/Desktop/repos/ns/fastai-lesson2/.env/lib/python3.12/site-packages/gradio/blocks.py\", line 1550, in process_api\n",
      "    result = await self.call_function(\n",
      "             ^^^^^^^^^^^^^^^^^^^^^^^^^\n",
      "  File \"/Users/nikkideyy/Desktop/repos/ns/fastai-lesson2/.env/lib/python3.12/site-packages/gradio/blocks.py\", line 1185, in call_function\n",
      "    prediction = await anyio.to_thread.run_sync(\n",
      "                 ^^^^^^^^^^^^^^^^^^^^^^^^^^^^^^^\n",
      "  File \"/Users/nikkideyy/Desktop/repos/ns/fastai-lesson2/.env/lib/python3.12/site-packages/anyio/to_thread.py\", line 56, in run_sync\n",
      "    return await get_async_backend().run_sync_in_worker_thread(\n",
      "           ^^^^^^^^^^^^^^^^^^^^^^^^^^^^^^^^^^^^^^^^^^^^^^^^^^^^\n",
      "  File \"/Users/nikkideyy/Desktop/repos/ns/fastai-lesson2/.env/lib/python3.12/site-packages/anyio/_backends/_asyncio.py\", line 2470, in run_sync_in_worker_thread\n",
      "    return await future\n",
      "           ^^^^^^^^^^^^\n",
      "  File \"/Users/nikkideyy/Desktop/repos/ns/fastai-lesson2/.env/lib/python3.12/site-packages/anyio/_backends/_asyncio.py\", line 967, in run\n",
      "    result = context.run(func, *args)\n",
      "             ^^^^^^^^^^^^^^^^^^^^^^^^\n",
      "  File \"/Users/nikkideyy/Desktop/repos/ns/fastai-lesson2/.env/lib/python3.12/site-packages/gradio/utils.py\", line 661, in wrapper\n",
      "    response = f(*args, **kwargs)\n",
      "               ^^^^^^^^^^^^^^^^^^\n",
      "  File \"/var/folders/jk/p29wvf8555n9l2mh_xf82r_80000gn/T/ipykernel_58029/2746241596.py\", line 3, in predict\n",
      "    img = PILImage.create(img)\n",
      "          ^^^^^^^^^^^^^^^^^^^^\n",
      "  File \"/Users/nikkideyy/Desktop/repos/ns/fastai-lesson2/.env/lib/python3.12/site-packages/fastai/vision/core.py\", line 127, in create\n",
      "    return cls(load_image(fn, **merge(cls._open_args, kwargs)))\n",
      "               ^^^^^^^^^^^^^^^^^^^^^^^^^^^^^^^^^^^^^^^^^^^^^^^\n",
      "  File \"/Users/nikkideyy/Desktop/repos/ns/fastai-lesson2/.env/lib/python3.12/site-packages/fastai/vision/core.py\", line 100, in load_image\n",
      "    im = Image.open(fn)\n",
      "         ^^^^^^^^^^^^^^\n",
      "  File \"/Users/nikkideyy/Desktop/repos/ns/fastai-lesson2/.env/lib/python3.12/site-packages/PIL/Image.py\", line 3439, in open\n",
      "    fp = io.BytesIO(fp.read())\n",
      "                    ^^^^^^^\n",
      "AttributeError: 'NoneType' object has no attribute 'read'\n"
     ]
    },
    {
     "data": {
      "text/html": [
       "\n",
       "<style>\n",
       "    /* Turns off some styling */\n",
       "    progress {\n",
       "        /* gets rid of default border in Firefox and Opera. */\n",
       "        border: none;\n",
       "        /* Needs to be in here for Safari polyfill so background images work as expected. */\n",
       "        background-size: auto;\n",
       "    }\n",
       "    progress:not([value]), progress:not([value])::-webkit-progress-bar {\n",
       "        background: repeating-linear-gradient(45deg, #7e7e7e, #7e7e7e 10px, #5c5c5c 10px, #5c5c5c 20px);\n",
       "    }\n",
       "    .progress-bar-interrupted, .progress-bar-interrupted::-webkit-progress-bar {\n",
       "        background: #F44336;\n",
       "    }\n",
       "</style>\n"
      ],
      "text/plain": [
       "<IPython.core.display.HTML object>"
      ]
     },
     "metadata": {},
     "output_type": "display_data"
    },
    {
     "data": {
      "text/html": [],
      "text/plain": [
       "<IPython.core.display.HTML object>"
      ]
     },
     "metadata": {},
     "output_type": "display_data"
    }
   ],
   "source": [
    "import gradio as gr\n",
    "gr.Interface(fn=predict, inputs=gr.Image(shape=(512, 512)), outputs=gr.Label(num_top_classes=3)).launch(share=True)"
   ]
  }
 ],
 "metadata": {
  "kernelspec": {
   "display_name": ".env",
   "language": "python",
   "name": "python3"
  },
  "language_info": {
   "codemirror_mode": {
    "name": "ipython",
    "version": 3
   },
   "file_extension": ".py",
   "mimetype": "text/x-python",
   "name": "python",
   "nbconvert_exporter": "python",
   "pygments_lexer": "ipython3",
   "version": "3.12.11"
  }
 },
 "nbformat": 4,
 "nbformat_minor": 2
}
